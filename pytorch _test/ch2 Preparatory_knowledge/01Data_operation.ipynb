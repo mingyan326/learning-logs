{
 "cells": [
  {
   "cell_type": "code",
   "id": "initial_id",
   "metadata": {
    "collapsed": true,
    "ExecuteTime": {
     "end_time": "2024-04-28T13:57:58.537297Z",
     "start_time": "2024-04-28T13:57:58.514361Z"
    }
   },
   "source": "import torch",
   "outputs": [],
   "execution_count": 25
  },
  {
   "metadata": {
    "ExecuteTime": {
     "end_time": "2024-04-28T13:57:58.553407Z",
     "start_time": "2024-04-28T13:57:58.539292Z"
    }
   },
   "cell_type": "code",
   "source": [
    "x= torch.arange(12)\n",
    "x"
   ],
   "id": "ebe092b546637f46",
   "outputs": [
    {
     "data": {
      "text/plain": [
       "tensor([ 0,  1,  2,  3,  4,  5,  6,  7,  8,  9, 10, 11])"
      ]
     },
     "execution_count": 26,
     "metadata": {},
     "output_type": "execute_result"
    }
   ],
   "execution_count": 26
  },
  {
   "metadata": {
    "ExecuteTime": {
     "end_time": "2024-04-28T13:57:58.569254Z",
     "start_time": "2024-04-28T13:57:58.556247Z"
    }
   },
   "cell_type": "code",
   "source": "x.shape",
   "id": "65545a93a2567126",
   "outputs": [
    {
     "data": {
      "text/plain": [
       "torch.Size([12])"
      ]
     },
     "execution_count": 27,
     "metadata": {},
     "output_type": "execute_result"
    }
   ],
   "execution_count": 27
  },
  {
   "metadata": {
    "ExecuteTime": {
     "end_time": "2024-04-28T13:57:58.585170Z",
     "start_time": "2024-04-28T13:57:58.570247Z"
    }
   },
   "cell_type": "code",
   "source": "x.numel()",
   "id": "71ce5a481de1ce8c",
   "outputs": [
    {
     "data": {
      "text/plain": [
       "12"
      ]
     },
     "execution_count": 28,
     "metadata": {},
     "output_type": "execute_result"
    }
   ],
   "execution_count": 28
  },
  {
   "metadata": {
    "ExecuteTime": {
     "end_time": "2024-04-28T13:57:58.601129Z",
     "start_time": "2024-04-28T13:57:58.588163Z"
    }
   },
   "cell_type": "code",
   "source": [
    "x = x.reshape(3,4)\n",
    "x"
   ],
   "id": "27ef70c3619b11a3",
   "outputs": [
    {
     "data": {
      "text/plain": [
       "tensor([[ 0,  1,  2,  3],\n",
       "        [ 4,  5,  6,  7],\n",
       "        [ 8,  9, 10, 11]])"
      ]
     },
     "execution_count": 29,
     "metadata": {},
     "output_type": "execute_result"
    }
   ],
   "execution_count": 29
  },
  {
   "metadata": {
    "ExecuteTime": {
     "end_time": "2024-04-28T13:57:58.617085Z",
     "start_time": "2024-04-28T13:57:58.603143Z"
    }
   },
   "cell_type": "code",
   "source": "torch.zeros((2,3,4))",
   "id": "e47f3adbca1bd8c4",
   "outputs": [
    {
     "data": {
      "text/plain": [
       "tensor([[[0., 0., 0., 0.],\n",
       "         [0., 0., 0., 0.],\n",
       "         [0., 0., 0., 0.]],\n",
       "\n",
       "        [[0., 0., 0., 0.],\n",
       "         [0., 0., 0., 0.],\n",
       "         [0., 0., 0., 0.]]])"
      ]
     },
     "execution_count": 30,
     "metadata": {},
     "output_type": "execute_result"
    }
   ],
   "execution_count": 30
  },
  {
   "metadata": {
    "ExecuteTime": {
     "end_time": "2024-04-28T13:57:58.632364Z",
     "start_time": "2024-04-28T13:57:58.618362Z"
    }
   },
   "cell_type": "code",
   "source": "torch.ones((2,3,4))",
   "id": "8aebc39f712a9e85",
   "outputs": [
    {
     "data": {
      "text/plain": [
       "tensor([[[1., 1., 1., 1.],\n",
       "         [1., 1., 1., 1.],\n",
       "         [1., 1., 1., 1.]],\n",
       "\n",
       "        [[1., 1., 1., 1.],\n",
       "         [1., 1., 1., 1.],\n",
       "         [1., 1., 1., 1.]]])"
      ]
     },
     "execution_count": 31,
     "metadata": {},
     "output_type": "execute_result"
    }
   ],
   "execution_count": 31
  },
  {
   "metadata": {
    "ExecuteTime": {
     "end_time": "2024-04-28T13:57:58.647287Z",
     "start_time": "2024-04-28T13:57:58.634323Z"
    }
   },
   "cell_type": "code",
   "source": "torch.tensor([[2,1,4,3],[1,2,3,4],[4,3,2,1]])",
   "id": "96f85ad49e09613d",
   "outputs": [
    {
     "data": {
      "text/plain": [
       "tensor([[2, 1, 4, 3],\n",
       "        [1, 2, 3, 4],\n",
       "        [4, 3, 2, 1]])"
      ]
     },
     "execution_count": 32,
     "metadata": {},
     "output_type": "execute_result"
    }
   ],
   "execution_count": 32
  },
  {
   "metadata": {
    "ExecuteTime": {
     "end_time": "2024-04-28T13:57:58.662943Z",
     "start_time": "2024-04-28T13:57:58.649281Z"
    }
   },
   "cell_type": "code",
   "source": [
    "x = torch.tensor([1.0,2,4,8])\n",
    "y = torch.tensor([2,2,2,2])\n",
    "x + y, x - y, x * y, x /y, x ** y"
   ],
   "id": "8ed3f8efdc951a0c",
   "outputs": [
    {
     "data": {
      "text/plain": [
       "(tensor([ 3.,  4.,  6., 10.]),\n",
       " tensor([-1.,  0.,  2.,  6.]),\n",
       " tensor([ 2.,  4.,  8., 16.]),\n",
       " tensor([0.5000, 1.0000, 2.0000, 4.0000]),\n",
       " tensor([ 1.,  4., 16., 64.]))"
      ]
     },
     "execution_count": 33,
     "metadata": {},
     "output_type": "execute_result"
    }
   ],
   "execution_count": 33
  },
  {
   "metadata": {
    "ExecuteTime": {
     "end_time": "2024-04-28T13:57:58.678204Z",
     "start_time": "2024-04-28T13:57:58.664244Z"
    }
   },
   "cell_type": "code",
   "source": "torch.exp(x)",
   "id": "bac9c1aafd3e9de0",
   "outputs": [
    {
     "data": {
      "text/plain": [
       "tensor([2.7183e+00, 7.3891e+00, 5.4598e+01, 2.9810e+03])"
      ]
     },
     "execution_count": 34,
     "metadata": {},
     "output_type": "execute_result"
    }
   ],
   "execution_count": 34
  },
  {
   "metadata": {
    "ExecuteTime": {
     "end_time": "2024-04-28T13:57:58.693166Z",
     "start_time": "2024-04-28T13:57:58.680199Z"
    }
   },
   "cell_type": "code",
   "source": [
    "x = torch.arange(12, dtype=torch.float32).reshape((3,4))\n",
    "y = torch.tensor([[2.0, 1, 4, 3], [1, 2, 3, 4], [4, 3, 2, 1]])\n",
    "torch.cat((x, y), dim=0), torch.cat((x, y), dim=1)"
   ],
   "id": "b92a0892126a7881",
   "outputs": [
    {
     "data": {
      "text/plain": [
       "(tensor([[ 0.,  1.,  2.,  3.],\n",
       "         [ 4.,  5.,  6.,  7.],\n",
       "         [ 8.,  9., 10., 11.],\n",
       "         [ 2.,  1.,  4.,  3.],\n",
       "         [ 1.,  2.,  3.,  4.],\n",
       "         [ 4.,  3.,  2.,  1.]]),\n",
       " tensor([[ 0.,  1.,  2.,  3.,  2.,  1.,  4.,  3.],\n",
       "         [ 4.,  5.,  6.,  7.,  1.,  2.,  3.,  4.],\n",
       "         [ 8.,  9., 10., 11.,  4.,  3.,  2.,  1.]]))"
      ]
     },
     "execution_count": 35,
     "metadata": {},
     "output_type": "execute_result"
    }
   ],
   "execution_count": 35
  },
  {
   "metadata": {
    "ExecuteTime": {
     "end_time": "2024-04-28T13:57:58.708551Z",
     "start_time": "2024-04-28T13:57:58.694164Z"
    }
   },
   "cell_type": "code",
   "source": "x == y",
   "id": "24dca3fb53ea1558",
   "outputs": [
    {
     "data": {
      "text/plain": [
       "tensor([[False,  True, False,  True],\n",
       "        [False, False, False, False],\n",
       "        [False, False, False, False]])"
      ]
     },
     "execution_count": 36,
     "metadata": {},
     "output_type": "execute_result"
    }
   ],
   "execution_count": 36
  },
  {
   "metadata": {
    "ExecuteTime": {
     "end_time": "2024-04-28T13:57:58.724149Z",
     "start_time": "2024-04-28T13:57:58.710165Z"
    }
   },
   "cell_type": "code",
   "source": "x.sum()",
   "id": "313fb9c32cab2c1a",
   "outputs": [
    {
     "data": {
      "text/plain": [
       "tensor(66.)"
      ]
     },
     "execution_count": 37,
     "metadata": {},
     "output_type": "execute_result"
    }
   ],
   "execution_count": 37
  },
  {
   "metadata": {
    "ExecuteTime": {
     "end_time": "2024-04-28T13:57:58.769960Z",
     "start_time": "2024-04-28T13:57:58.760317Z"
    }
   },
   "cell_type": "code",
   "source": [
    "a = torch.arange(3).reshape((3, 1))\n",
    "b = torch.arange(2).reshape((1, 2))\n",
    "a, b"
   ],
   "id": "e298616df451095c",
   "outputs": [
    {
     "data": {
      "text/plain": [
       "(tensor([[0],\n",
       "         [1],\n",
       "         [2]]),\n",
       " tensor([[0, 1]]))"
      ]
     },
     "execution_count": 38,
     "metadata": {},
     "output_type": "execute_result"
    }
   ],
   "execution_count": 38
  },
  {
   "metadata": {
    "ExecuteTime": {
     "end_time": "2024-04-28T13:57:58.817835Z",
     "start_time": "2024-04-28T13:57:58.802873Z"
    }
   },
   "cell_type": "code",
   "source": "a + b",
   "id": "9bbf7e3b0d63b91c",
   "outputs": [
    {
     "data": {
      "text/plain": [
       "tensor([[0, 1],\n",
       "        [1, 2],\n",
       "        [2, 3]])"
      ]
     },
     "execution_count": 39,
     "metadata": {},
     "output_type": "execute_result"
    }
   ],
   "execution_count": 39
  },
  {
   "metadata": {
    "ExecuteTime": {
     "end_time": "2024-04-28T13:57:58.864739Z",
     "start_time": "2024-04-28T13:57:58.845758Z"
    }
   },
   "cell_type": "code",
   "source": "x[-1], x[1:3]",
   "id": "70bfa66246cefa7d",
   "outputs": [
    {
     "data": {
      "text/plain": [
       "(tensor([ 8.,  9., 10., 11.]),\n",
       " tensor([[ 4.,  5.,  6.,  7.],\n",
       "         [ 8.,  9., 10., 11.]]))"
      ]
     },
     "execution_count": 40,
     "metadata": {},
     "output_type": "execute_result"
    }
   ],
   "execution_count": 40
  },
  {
   "metadata": {
    "ExecuteTime": {
     "end_time": "2024-04-28T13:57:58.880664Z",
     "start_time": "2024-04-28T13:57:58.866710Z"
    }
   },
   "cell_type": "code",
   "source": [
    "x[1,2] = 9\n",
    "x"
   ],
   "id": "bb6bd90d74d2b41b",
   "outputs": [
    {
     "data": {
      "text/plain": [
       "tensor([[ 0.,  1.,  2.,  3.],\n",
       "        [ 4.,  5.,  9.,  7.],\n",
       "        [ 8.,  9., 10., 11.]])"
      ]
     },
     "execution_count": 41,
     "metadata": {},
     "output_type": "execute_result"
    }
   ],
   "execution_count": 41
  },
  {
   "metadata": {
    "ExecuteTime": {
     "end_time": "2024-04-28T13:57:58.926952Z",
     "start_time": "2024-04-28T13:57:58.909587Z"
    }
   },
   "cell_type": "code",
   "source": [
    "x[0:2,  : ] = 12\n",
    "x"
   ],
   "id": "da35fc19b1acc50f",
   "outputs": [
    {
     "data": {
      "text/plain": [
       "tensor([[12., 12., 12., 12.],\n",
       "        [12., 12., 12., 12.],\n",
       "        [ 8.,  9., 10., 11.]])"
      ]
     },
     "execution_count": 42,
     "metadata": {},
     "output_type": "execute_result"
    }
   ],
   "execution_count": 42
  },
  {
   "metadata": {
    "ExecuteTime": {
     "end_time": "2024-04-28T13:57:58.942533Z",
     "start_time": "2024-04-28T13:57:58.928571Z"
    }
   },
   "cell_type": "code",
   "source": [
    "before = id(y)\n",
    "y = y + x\n",
    "id(y) == before"
   ],
   "id": "67523536dd61caa6",
   "outputs": [
    {
     "data": {
      "text/plain": [
       "False"
      ]
     },
     "execution_count": 43,
     "metadata": {},
     "output_type": "execute_result"
    }
   ],
   "execution_count": 43
  },
  {
   "metadata": {
    "ExecuteTime": {
     "end_time": "2024-04-28T13:57:58.958492Z",
     "start_time": "2024-04-28T13:57:58.943564Z"
    }
   },
   "cell_type": "code",
   "source": [
    "z = torch.zeros_like(y)\n",
    "print('id(z):', id(z))\n",
    "z[:] = x + y\n",
    "print('id(z):', id(z))"
   ],
   "id": "625b8a1bd014d9e8",
   "outputs": [
    {
     "name": "stdout",
     "output_type": "stream",
     "text": [
      "id(z): 2183045539776\n",
      "id(z): 2183045539776\n"
     ]
    }
   ],
   "execution_count": 44
  },
  {
   "metadata": {
    "ExecuteTime": {
     "end_time": "2024-04-28T13:57:58.974450Z",
     "start_time": "2024-04-28T13:57:58.960487Z"
    }
   },
   "cell_type": "code",
   "source": [
    "before = id(y)\n",
    "y += x\n",
    "id(y) == before"
   ],
   "id": "cd5ee74b47ca16b6",
   "outputs": [
    {
     "data": {
      "text/plain": [
       "True"
      ]
     },
     "execution_count": 45,
     "metadata": {},
     "output_type": "execute_result"
    }
   ],
   "execution_count": 45
  },
  {
   "metadata": {
    "ExecuteTime": {
     "end_time": "2024-04-28T13:57:58.990407Z",
     "start_time": "2024-04-28T13:57:58.978439Z"
    }
   },
   "cell_type": "code",
   "source": [
    "A = x.numpy()\n",
    "B = torch.tensor(A)\n",
    "type(A), type(B)"
   ],
   "id": "bcf6196fc4716785",
   "outputs": [
    {
     "data": {
      "text/plain": [
       "(numpy.ndarray, torch.Tensor)"
      ]
     },
     "execution_count": 46,
     "metadata": {},
     "output_type": "execute_result"
    }
   ],
   "execution_count": 46
  },
  {
   "metadata": {
    "ExecuteTime": {
     "end_time": "2024-04-28T13:57:59.005719Z",
     "start_time": "2024-04-28T13:57:58.994672Z"
    }
   },
   "cell_type": "code",
   "source": [
    "a = torch.tensor([3.5])\n",
    "a, a.item(), float(a), int(a)"
   ],
   "id": "ba7306c23dd0cd74",
   "outputs": [
    {
     "data": {
      "text/plain": [
       "(tensor([3.5000]), 3.5, 3.5, 3)"
      ]
     },
     "execution_count": 47,
     "metadata": {},
     "output_type": "execute_result"
    }
   ],
   "execution_count": 47
  }
 ],
 "metadata": {
  "kernelspec": {
   "display_name": "Python 3",
   "language": "python",
   "name": "python3"
  },
  "language_info": {
   "codemirror_mode": {
    "name": "ipython",
    "version": 2
   },
   "file_extension": ".py",
   "mimetype": "text/x-python",
   "name": "python",
   "nbconvert_exporter": "python",
   "pygments_lexer": "ipython2",
   "version": "2.7.6"
  }
 },
 "nbformat": 4,
 "nbformat_minor": 5
}
