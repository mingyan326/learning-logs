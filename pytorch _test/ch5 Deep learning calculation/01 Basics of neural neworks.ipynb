{
 "cells": [
  {
   "metadata": {},
   "cell_type": "markdown",
   "source": "一 模型构造",
   "id": "ad5c2f0d9128fefc"
  },
  {
   "cell_type": "code",
   "id": "initial_id",
   "metadata": {
    "collapsed": true,
    "ExecuteTime": {
     "end_time": "2024-07-02T07:57:05.072775Z",
     "start_time": "2024-07-02T07:56:54.643075Z"
    }
   },
   "source": [
    "import torch\n",
    "from torch import nn\n",
    "from torch.nn import functional as F\n",
    "net = nn.Sequential(nn.Linear(20, 256), nn.ReLU(), nn.Linear(256, 10))\n",
    "X = torch.rand(2, 20)\n",
    "net(X)"
   ],
   "outputs": [
    {
     "data": {
      "text/plain": [
       "tensor([[-0.2778, -0.1021, -0.0520, -0.0211, -0.1326, -0.0159,  0.1438, -0.1401,\n",
       "          0.0721,  0.0444],\n",
       "        [-0.2566, -0.2121, -0.0091, -0.0175, -0.1238,  0.0227,  0.1633, -0.1198,\n",
       "          0.0325, -0.0963]], grad_fn=<AddmmBackward0>)"
      ]
     },
     "execution_count": 2,
     "metadata": {},
     "output_type": "execute_result"
    }
   ],
   "execution_count": 2
  },
  {
   "metadata": {
    "ExecuteTime": {
     "end_time": "2024-07-02T07:58:06.107388Z",
     "start_time": "2024-07-02T07:58:06.088744Z"
    }
   },
   "cell_type": "code",
   "source": [
    "class MLP(nn.Module):\n",
    "    # 用模型参数声明层。这里，我们声明两个全连接的层\n",
    "    def __init__(self):\n",
    "        # 调用MLP的父类Module的构造函数来执行必要的初始化。\n",
    "        # 这样，在类实例化时也可以指定其他函数参数，例如模型参数params\n",
    "        super().__init__()\n",
    "        self.hidden = nn.Linear(20, 256) # 隐藏层\n",
    "        self.out = nn.Linear(256, 10) # 输出层\n",
    "\n",
    "    # 定义模型的前向传播，即如何根据输入X返回所需的模型输出\n",
    "    def forward(self, X):\n",
    "        # 注意，这里我们使用ReLU的函数版本，其在nn.functional模块中定义。\n",
    "        return self.out(F.relu(self.hidden(X)))"
   ],
   "id": "4b99290d350ae21",
   "outputs": [],
   "execution_count": 3
  },
  {
   "metadata": {
    "ExecuteTime": {
     "end_time": "2024-07-02T07:58:08.328775Z",
     "start_time": "2024-07-02T07:58:08.319288Z"
    }
   },
   "cell_type": "code",
   "source": [
    "net = MLP()\n",
    "net(X)"
   ],
   "id": "4cbca3d2dd2bf85c",
   "outputs": [
    {
     "data": {
      "text/plain": [
       "tensor([[-0.0226, -0.0591, -0.0891,  0.2256,  0.0452, -0.2165, -0.0765,  0.0559,\n",
       "          0.2951, -0.1310],\n",
       "        [-0.0585, -0.0286, -0.1175,  0.2980,  0.1516, -0.2134,  0.0278,  0.0265,\n",
       "          0.2546, -0.2128]], grad_fn=<AddmmBackward0>)"
      ]
     },
     "execution_count": 4,
     "metadata": {},
     "output_type": "execute_result"
    }
   ],
   "execution_count": 4
  },
  {
   "metadata": {},
   "cell_type": "markdown",
   "source": "顺序块",
   "id": "12bc2006344d7d45"
  },
  {
   "metadata": {
    "ExecuteTime": {
     "end_time": "2024-07-02T07:58:11.594617Z",
     "start_time": "2024-07-02T07:58:11.589632Z"
    }
   },
   "cell_type": "code",
   "source": [
    "class MySequential(nn.Module):\n",
    "    def __init__(self, *args):\n",
    "        super().__init__()\n",
    "        for block in args:\n",
    "            # 变量_modules中。_module的类型是OrderedDict\n",
    "            self._modules[block] = block\n",
    "    \n",
    "    def forward(self, X):\n",
    "        # OrderedDict保证了按照成员添加的顺序遍历它们\n",
    "        for block in self._modules.values():\n",
    "            X = block(X)\n",
    "        return X"
   ],
   "id": "9c2af878ee6c6b9c",
   "outputs": [],
   "execution_count": 5
  },
  {
   "metadata": {
    "ExecuteTime": {
     "end_time": "2024-07-02T07:58:13.224961Z",
     "start_time": "2024-07-02T07:58:13.204980Z"
    }
   },
   "cell_type": "code",
   "source": [
    "net = MySequential(nn.Linear(20, 256), nn.ReLU(), nn.Linear(256, 10))\n",
    "net(X)"
   ],
   "id": "6d23fb82f2ad549a",
   "outputs": [
    {
     "data": {
      "text/plain": [
       "tensor([[ 0.1516,  0.0408, -0.1080,  0.0733,  0.1557,  0.0094, -0.0577,  0.0442,\n",
       "          0.1637, -0.1183],\n",
       "        [ 0.1904,  0.1679, -0.0609,  0.0543,  0.0373, -0.0069,  0.0549,  0.0173,\n",
       "          0.1321, -0.2740]], grad_fn=<AddmmBackward0>)"
      ]
     },
     "execution_count": 6,
     "metadata": {},
     "output_type": "execute_result"
    }
   ],
   "execution_count": 6
  },
  {
   "metadata": {},
   "cell_type": "markdown",
   "source": "在正向传播函数中执行代码",
   "id": "455cfba74eb2a47b"
  },
  {
   "metadata": {
    "ExecuteTime": {
     "end_time": "2024-07-02T08:00:03.439860Z",
     "start_time": "2024-07-02T08:00:03.427224Z"
    }
   },
   "cell_type": "code",
   "source": [
    "class FixedHiddenMLP(nn.Module):\n",
    "    def __init__(self):\n",
    "        super().__init__()\n",
    "        # 不计算梯度的随机权重参数。因此其在训练期间保持不变\n",
    "        self.rand_weight = torch.rand((20, 20), requires_grad=False)\n",
    "        self.linear = nn.Linear(20, 20)\n",
    "        \n",
    "    def forward(self, X):\n",
    "        X = self.linear(X)\n",
    "        # 使用创建的常量参数以及relu和mm函数\n",
    "        X = F.relu(torch.mm(X, self.rand_weight) + 1)\n",
    "        # 复用全连接层。这相当于两个全连接层共享参数\n",
    "        X = self.linear(X)\n",
    "        # 控制流\n",
    "        while X.abs().sum() > 1:\n",
    "            X /= 2\n",
    "        return X.sum()"
   ],
   "id": "9c1c165ffd97ab7e",
   "outputs": [],
   "execution_count": 7
  },
  {
   "metadata": {
    "ExecuteTime": {
     "end_time": "2024-07-02T08:00:06.415239Z",
     "start_time": "2024-07-02T08:00:06.392891Z"
    }
   },
   "cell_type": "code",
   "source": [
    "net = FixedHiddenMLP()\n",
    "net(X)"
   ],
   "id": "63191e348db2efbb",
   "outputs": [
    {
     "data": {
      "text/plain": [
       "tensor(0.0945, grad_fn=<SumBackward0>)"
      ]
     },
     "execution_count": 8,
     "metadata": {},
     "output_type": "execute_result"
    }
   ],
   "execution_count": 8
  },
  {
   "metadata": {},
   "cell_type": "markdown",
   "source": "混合搭配各种组合块的方法",
   "id": "b26d07eb289172a7"
  },
  {
   "metadata": {
    "ExecuteTime": {
     "end_time": "2024-07-02T08:04:41.971866Z",
     "start_time": "2024-07-02T08:04:41.951556Z"
    }
   },
   "cell_type": "code",
   "source": [
    "class NestMLP(nn.Module):\n",
    "    def __init__(self):\n",
    "        super().__init__()\n",
    "        self.net = nn.Sequential(nn.Linear(20, 64), nn.ReLU(),nn.Linear(64, 32), nn.ReLU())\n",
    "        self.linear = nn.Linear(32, 16)\n",
    "\n",
    "    def forward(self, X):\n",
    "        return self.linear(self.net(X))\n",
    "\n",
    "chimera = nn.Sequential(NestMLP(), nn.Linear(16, 20), FixedHiddenMLP())\n",
    "chimera(X)"
   ],
   "id": "2965c3eac6decd86",
   "outputs": [
    {
     "data": {
      "text/plain": [
       "tensor(-0.2258, grad_fn=<SumBackward0>)"
      ]
     },
     "execution_count": 9,
     "metadata": {},
     "output_type": "execute_result"
    }
   ],
   "execution_count": 9
  },
  {
   "metadata": {},
   "cell_type": "markdown",
   "source": "二、参数管理",
   "id": "a517f8edf79654ed"
  },
  {
   "metadata": {
    "ExecuteTime": {
     "end_time": "2024-07-02T08:10:37.688813Z",
     "start_time": "2024-07-02T08:10:37.668793Z"
    }
   },
   "cell_type": "code",
   "source": [
    "import torch\n",
    "from torch import nn\n",
    "net = nn.Sequential(nn.Linear(4, 8), nn.ReLU(), nn.Linear(8, 1))\n",
    "X = torch.rand(size=(2, 4))\n",
    "net(X)"
   ],
   "id": "b658a88c53b72813",
   "outputs": [
    {
     "data": {
      "text/plain": [
       "tensor([[0.0455],\n",
       "        [0.1236]], grad_fn=<AddmmBackward0>)"
      ]
     },
     "execution_count": 10,
     "metadata": {},
     "output_type": "execute_result"
    }
   ],
   "execution_count": 10
  },
  {
   "metadata": {},
   "cell_type": "markdown",
   "source": "参数访问",
   "id": "1bd8509240b0faf3"
  },
  {
   "metadata": {
    "ExecuteTime": {
     "end_time": "2024-07-02T08:11:40.898424Z",
     "start_time": "2024-07-02T08:11:40.881469Z"
    }
   },
   "cell_type": "code",
   "source": "print(net[2].state_dict())",
   "id": "8d2350d3bd0a0dcf",
   "outputs": [
    {
     "name": "stdout",
     "output_type": "stream",
     "text": [
      "OrderedDict([('weight', tensor([[ 0.1199,  0.0268, -0.0125, -0.2899,  0.1091,  0.0084,  0.1930,  0.2125]])), ('bias', tensor([-0.0631]))])\n"
     ]
    }
   ],
   "execution_count": 11
  },
  {
   "metadata": {},
   "cell_type": "markdown",
   "source": "目标参数",
   "id": "efacc93f0f8a8ad5"
  },
  {
   "metadata": {
    "ExecuteTime": {
     "end_time": "2024-07-02T08:12:01.964004Z",
     "start_time": "2024-07-02T08:12:01.949981Z"
    }
   },
   "cell_type": "code",
   "source": [
    "print(type(net[2].bias))\n",
    "print(net[2].bias)\n",
    "print(net[2].bias.data)"
   ],
   "id": "7d44818265fb8a07",
   "outputs": [
    {
     "name": "stdout",
     "output_type": "stream",
     "text": [
      "<class 'torch.nn.parameter.Parameter'>\n",
      "Parameter containing:\n",
      "tensor([-0.0631], requires_grad=True)\n",
      "tensor([-0.0631])\n"
     ]
    }
   ],
   "execution_count": 12
  },
  {
   "metadata": {
    "ExecuteTime": {
     "end_time": "2024-07-02T08:12:11.955720Z",
     "start_time": "2024-07-02T08:12:11.948670Z"
    }
   },
   "cell_type": "code",
   "source": "net[2].weight.grad is None",
   "id": "acc65b408f2bdb2",
   "outputs": [
    {
     "data": {
      "text/plain": [
       "True"
      ]
     },
     "execution_count": 13,
     "metadata": {},
     "output_type": "execute_result"
    }
   ],
   "execution_count": 13
  },
  {
   "metadata": {},
   "cell_type": "markdown",
   "source": "一次性访问所有参数",
   "id": "aacd78cd9c847bcc"
  },
  {
   "metadata": {
    "ExecuteTime": {
     "end_time": "2024-07-02T08:12:29.771550Z",
     "start_time": "2024-07-02T08:12:29.755919Z"
    }
   },
   "cell_type": "code",
   "source": [
    "print(*[(name, param.shape) for name, param in net[0].named_parameters()])\n",
    "print(*[(name, param.shape) for name, param in net.named_parameters()])"
   ],
   "id": "3b9fdb4807d83475",
   "outputs": [
    {
     "name": "stdout",
     "output_type": "stream",
     "text": [
      "('weight', torch.Size([8, 4])) ('bias', torch.Size([8]))\n",
      "('0.weight', torch.Size([8, 4])) ('0.bias', torch.Size([8])) ('2.weight', torch.Size([1, 8])) ('2.bias', torch.Size([1]))\n"
     ]
    }
   ],
   "execution_count": 14
  },
  {
   "metadata": {
    "ExecuteTime": {
     "end_time": "2024-07-02T08:12:44.349755Z",
     "start_time": "2024-07-02T08:12:44.338785Z"
    }
   },
   "cell_type": "code",
   "source": "net.state_dict()['2.bias'].data",
   "id": "bf96cdb9c62b5370",
   "outputs": [
    {
     "data": {
      "text/plain": [
       "tensor([-0.0631])"
      ]
     },
     "execution_count": 15,
     "metadata": {},
     "output_type": "execute_result"
    }
   ],
   "execution_count": 15
  },
  {
   "metadata": {},
   "cell_type": "markdown",
   "source": "从嵌套块收集参数",
   "id": "4ec9ee0a375415"
  },
  {
   "metadata": {
    "ExecuteTime": {
     "end_time": "2024-07-02T08:13:42.035292Z",
     "start_time": "2024-07-02T08:13:42.024289Z"
    }
   },
   "cell_type": "code",
   "source": [
    "def block1():\n",
    "    return nn.Sequential(nn.Linear(4, 8), nn.ReLU(), nn.Linear(8, 4), nn.ReLU())\n",
    "def block2():\n",
    "    net = nn.Sequential()\n",
    "    for i in range(4):\n",
    "        # 在这里嵌套\n",
    "        net.add_module(f'block {i}', block1())\n",
    "    return net\n",
    "\n",
    "rgnet = nn.Sequential(block2(), nn.Linear(4, 1))\n",
    "rgnet(X)"
   ],
   "id": "8389b485aa6ded5e",
   "outputs": [
    {
     "data": {
      "text/plain": [
       "tensor([[0.3041],\n",
       "        [0.3041]], grad_fn=<AddmmBackward0>)"
      ]
     },
     "execution_count": 16,
     "metadata": {},
     "output_type": "execute_result"
    }
   ],
   "execution_count": 16
  },
  {
   "metadata": {
    "ExecuteTime": {
     "end_time": "2024-07-02T08:13:55.231218Z",
     "start_time": "2024-07-02T08:13:55.214300Z"
    }
   },
   "cell_type": "code",
   "source": "print(rgnet)",
   "id": "b5f469b8d1a47651",
   "outputs": [
    {
     "name": "stdout",
     "output_type": "stream",
     "text": [
      "Sequential(\n",
      "  (0): Sequential(\n",
      "    (block 0): Sequential(\n",
      "      (0): Linear(in_features=4, out_features=8, bias=True)\n",
      "      (1): ReLU()\n",
      "      (2): Linear(in_features=8, out_features=4, bias=True)\n",
      "      (3): ReLU()\n",
      "    )\n",
      "    (block 1): Sequential(\n",
      "      (0): Linear(in_features=4, out_features=8, bias=True)\n",
      "      (1): ReLU()\n",
      "      (2): Linear(in_features=8, out_features=4, bias=True)\n",
      "      (3): ReLU()\n",
      "    )\n",
      "    (block 2): Sequential(\n",
      "      (0): Linear(in_features=4, out_features=8, bias=True)\n",
      "      (1): ReLU()\n",
      "      (2): Linear(in_features=8, out_features=4, bias=True)\n",
      "      (3): ReLU()\n",
      "    )\n",
      "    (block 3): Sequential(\n",
      "      (0): Linear(in_features=4, out_features=8, bias=True)\n",
      "      (1): ReLU()\n",
      "      (2): Linear(in_features=8, out_features=4, bias=True)\n",
      "      (3): ReLU()\n",
      "    )\n",
      "  )\n",
      "  (1): Linear(in_features=4, out_features=1, bias=True)\n",
      ")\n"
     ]
    }
   ],
   "execution_count": 17
  },
  {
   "metadata": {
    "ExecuteTime": {
     "end_time": "2024-07-02T08:14:27.996062Z",
     "start_time": "2024-07-02T08:14:27.975119Z"
    }
   },
   "cell_type": "code",
   "source": "rgnet[0][1][0].bias.data",
   "id": "8bdc69ce1bae7cd1",
   "outputs": [
    {
     "data": {
      "text/plain": [
       "tensor([ 0.4021,  0.3663, -0.3856, -0.4042,  0.0053, -0.2639,  0.2988,  0.4735])"
      ]
     },
     "execution_count": 18,
     "metadata": {},
     "output_type": "execute_result"
    }
   ],
   "execution_count": 18
  },
  {
   "metadata": {},
   "cell_type": "markdown",
   "source": "内置初始化",
   "id": "4689967b0d11579d"
  },
  {
   "metadata": {
    "ExecuteTime": {
     "end_time": "2024-07-02T08:14:58.292834Z",
     "start_time": "2024-07-02T08:14:58.274690Z"
    }
   },
   "cell_type": "code",
   "source": [
    "def init_normal(m):\n",
    "    if type(m) == nn.Linear:\n",
    "        nn.init.normal_(m.weight, mean=0, std=0.01)\n",
    "        nn.init.zeros_(m.bias)\n",
    "\n",
    "net.apply(init_normal)\n",
    "net[0].weight.data[0], net[0].bias.data[0]"
   ],
   "id": "60912cebc05ce299",
   "outputs": [
    {
     "data": {
      "text/plain": [
       "(tensor([-0.0138, -0.0058,  0.0033,  0.0194]), tensor(0.))"
      ]
     },
     "execution_count": 19,
     "metadata": {},
     "output_type": "execute_result"
    }
   ],
   "execution_count": 19
  },
  {
   "metadata": {
    "ExecuteTime": {
     "end_time": "2024-07-02T08:15:25.191514Z",
     "start_time": "2024-07-02T08:15:25.169461Z"
    }
   },
   "cell_type": "code",
   "source": [
    "def init_constant(m):\n",
    "    if type(m) == nn.Linear:\n",
    "        nn.init.constant_(m.weight, 1)\n",
    "        nn.init.zeros_(m.bias)\n",
    "\n",
    "net.apply(init_constant)\n",
    "net[0].weight.data[0], net[0].bias.data[0]\n"
   ],
   "id": "84e62524c210061c",
   "outputs": [
    {
     "data": {
      "text/plain": [
       "(tensor([1., 1., 1., 1.]), tensor(0.))"
      ]
     },
     "execution_count": 20,
     "metadata": {},
     "output_type": "execute_result"
    }
   ],
   "execution_count": 20
  },
  {
   "metadata": {},
   "cell_type": "markdown",
   "source": "对某些块应用不同的初始化方法",
   "id": "8614f725c55a76c"
  },
  {
   "metadata": {
    "ExecuteTime": {
     "end_time": "2024-07-02T08:16:07.905409Z",
     "start_time": "2024-07-02T08:16:07.889451Z"
    }
   },
   "cell_type": "code",
   "source": [
    "def init_xavier(m):\n",
    "    if type(m) == nn.Linear:\n",
    "        nn.init.xavier_uniform_(m.weight)\n",
    "\n",
    "def init_42(m):\n",
    "    if type(m) == nn.Linear:\n",
    "        nn.init.constant_(m.weight, 42)\n",
    "\n",
    "net[0].apply(init_xavier)\n",
    "net[2].apply(init_42)\n",
    "print(net[0].weight.data[0])\n",
    "print(net[2].weight.data)\n"
   ],
   "id": "89d38c53d1414717",
   "outputs": [
    {
     "name": "stdout",
     "output_type": "stream",
     "text": [
      "tensor([ 0.2328, -0.0242,  0.1942,  0.2108])\n",
      "tensor([[42., 42., 42., 42., 42., 42., 42., 42.]])\n"
     ]
    }
   ],
   "execution_count": 21
  },
  {
   "metadata": {},
   "cell_type": "markdown",
   "source": "自定义初始化",
   "id": "acebad0d7a9dd96a"
  },
  {
   "metadata": {
    "ExecuteTime": {
     "end_time": "2024-07-02T08:16:58.975709Z",
     "start_time": "2024-07-02T08:16:58.952774Z"
    }
   },
   "cell_type": "code",
   "source": [
    "def my_init(m):\n",
    "    if type(m) == nn.Linear:\n",
    "        print(\"Init\", *[(name, param.shape)for name, param in m.named_parameters()][0])\n",
    "        nn.init.uniform_(m.weight, -10, 10)\n",
    "        m.weight.data *= m.weight.data.abs() >= 5\n",
    "\n",
    "net.apply(my_init)\n",
    "net[0].weight[:2]"
   ],
   "id": "fc577a5021130f7b",
   "outputs": [
    {
     "name": "stdout",
     "output_type": "stream",
     "text": [
      "Init weight torch.Size([8, 4])\n",
      "Init weight torch.Size([1, 8])\n"
     ]
    },
    {
     "data": {
      "text/plain": [
       "tensor([[-0.0000,  0.0000, -5.1746,  0.0000],\n",
       "        [-0.0000, -0.0000,  0.0000, -0.0000]], grad_fn=<SliceBackward0>)"
      ]
     },
     "execution_count": 22,
     "metadata": {},
     "output_type": "execute_result"
    }
   ],
   "execution_count": 22
  },
  {
   "metadata": {},
   "cell_type": "markdown",
   "source": "参数绑定",
   "id": "51159499cdaac981"
  },
  {
   "metadata": {
    "ExecuteTime": {
     "end_time": "2024-07-02T08:17:31.841230Z",
     "start_time": "2024-07-02T08:17:31.818291Z"
    }
   },
   "cell_type": "code",
   "source": [
    "# 我们需要给共享层一个名称，以便可以引用它的参数\n",
    "shared = nn.Linear(8, 8)\n",
    "net = nn.Sequential(nn.Linear(4, 8), nn.ReLU(),shared, nn.ReLU(),shared, nn.ReLU(),nn.Linear(8, 1))\n",
    "\n",
    "net(X)\n",
    "# 检查参数是否相同\n",
    "print(net[2].weight.data[0] == net[4].weight.data[0])\n",
    "net[2].weight.data[0, 0] = 100\n",
    "# 确保它们实际上是同一个对象，而不只是有相同的值\n",
    "print(net[2].weight.data[0] == net[4].weight.data[0])\n"
   ],
   "id": "63bde6e2fcac9661",
   "outputs": [
    {
     "name": "stdout",
     "output_type": "stream",
     "text": [
      "tensor([True, True, True, True, True, True, True, True])\n",
      "tensor([True, True, True, True, True, True, True, True])\n"
     ]
    }
   ],
   "execution_count": 23
  },
  {
   "metadata": {},
   "cell_type": "markdown",
   "source": "三、自定义层",
   "id": "423d108b9166fbd7"
  },
  {
   "metadata": {},
   "cell_type": "markdown",
   "source": "构造一个没有任何参数的自定义层",
   "id": "6a17e6d68e5b8e78"
  },
  {
   "metadata": {
    "ExecuteTime": {
     "end_time": "2024-07-02T08:18:20.186084Z",
     "start_time": "2024-07-02T08:18:20.169022Z"
    }
   },
   "cell_type": "code",
   "source": [
    "import torch\n",
    "import torch.nn.functional as F\n",
    "from torch import nn\n",
    "\n",
    "class CenteredLayer(nn.Module):\n",
    "    def __init__(self):\n",
    "        super().__init__()\n",
    "    \n",
    "    def forward(self, X):\n",
    "        return X - X.mean()"
   ],
   "id": "15552de743a271dc",
   "outputs": [],
   "execution_count": 24
  },
  {
   "metadata": {
    "ExecuteTime": {
     "end_time": "2024-07-02T08:18:35.656039Z",
     "start_time": "2024-07-02T08:18:35.641015Z"
    }
   },
   "cell_type": "code",
   "source": [
    "layer = CenteredLayer()\n",
    "layer(torch.FloatTensor([1, 2, 3, 4, 5]))"
   ],
   "id": "e18c3bc3a1a892e3",
   "outputs": [
    {
     "data": {
      "text/plain": [
       "tensor([-2., -1.,  0.,  1.,  2.])"
      ]
     },
     "execution_count": 25,
     "metadata": {},
     "output_type": "execute_result"
    }
   ],
   "execution_count": 25
  },
  {
   "metadata": {
    "ExecuteTime": {
     "end_time": "2024-07-02T08:18:51.738169Z",
     "start_time": "2024-07-02T08:18:51.727091Z"
    }
   },
   "cell_type": "code",
   "source": "net = nn.Sequential(nn.Linear(8, 128), CenteredLayer())",
   "id": "e5440e4e5f1a71f2",
   "outputs": [],
   "execution_count": 26
  },
  {
   "metadata": {
    "ExecuteTime": {
     "end_time": "2024-07-02T08:19:02.266467Z",
     "start_time": "2024-07-02T08:19:02.259866Z"
    }
   },
   "cell_type": "code",
   "source": [
    "Y = net(torch.rand(4, 8))\n",
    "Y.mean()"
   ],
   "id": "7c1836446e4b709c",
   "outputs": [
    {
     "data": {
      "text/plain": [
       "tensor(-9.3132e-10, grad_fn=<MeanBackward0>)"
      ]
     },
     "execution_count": 27,
     "metadata": {},
     "output_type": "execute_result"
    }
   ],
   "execution_count": 27
  },
  {
   "metadata": {},
   "cell_type": "markdown",
   "source": "带参数的层",
   "id": "a1fb80de9dcfe9a1"
  },
  {
   "metadata": {
    "ExecuteTime": {
     "end_time": "2024-07-02T08:19:44.766239Z",
     "start_time": "2024-07-02T08:19:44.747257Z"
    }
   },
   "cell_type": "code",
   "source": [
    "class MyLinear(nn.Module):\n",
    "    def __init__(self, in_units, units):\n",
    "        super().__init__()\n",
    "        self.weight = nn.Parameter(torch.randn(in_units, units))\n",
    "        self.bias = nn.Parameter(torch.randn(units,))\n",
    "    \n",
    "    def forward(self, X):\n",
    "        linear = torch.matmul(X, self.weight.data) + self.bias.data\n",
    "        return F.relu(linear)\n"
   ],
   "id": "c758aa0314252c2",
   "outputs": [],
   "execution_count": 28
  },
  {
   "metadata": {
    "ExecuteTime": {
     "end_time": "2024-07-02T08:19:55.043644Z",
     "start_time": "2024-07-02T08:19:55.027653Z"
    }
   },
   "cell_type": "code",
   "source": [
    "linear = MyLinear(5, 3)\n",
    "linear.weight"
   ],
   "id": "64fe0f9746e79367",
   "outputs": [
    {
     "data": {
      "text/plain": [
       "Parameter containing:\n",
       "tensor([[-1.0628,  1.3427, -0.4321],\n",
       "        [ 0.1731, -0.6089, -0.5324],\n",
       "        [ 1.0739,  0.6376, -0.4829],\n",
       "        [ 0.5208,  0.3886, -0.6827],\n",
       "        [ 0.4105,  0.2402,  0.9722]], requires_grad=True)"
      ]
     },
     "execution_count": 29,
     "metadata": {},
     "output_type": "execute_result"
    }
   ],
   "execution_count": 29
  },
  {
   "metadata": {
    "ExecuteTime": {
     "end_time": "2024-07-02T08:20:02.780849Z",
     "start_time": "2024-07-02T08:20:02.771873Z"
    }
   },
   "cell_type": "code",
   "source": "linear(torch.rand(2, 5))",
   "id": "3ad70419281d769a",
   "outputs": [
    {
     "data": {
      "text/plain": [
       "tensor([[1.5324, 0.0000, 0.7767],\n",
       "        [2.7487, 0.0000, 0.4573]])"
      ]
     },
     "execution_count": 30,
     "metadata": {},
     "output_type": "execute_result"
    }
   ],
   "execution_count": 30
  },
  {
   "metadata": {
    "ExecuteTime": {
     "end_time": "2024-07-02T08:20:15.326255Z",
     "start_time": "2024-07-02T08:20:15.311859Z"
    }
   },
   "cell_type": "code",
   "source": [
    "net = nn.Sequential(MyLinear(64, 8), MyLinear(8, 1))\n",
    "net(torch.rand(2, 64))"
   ],
   "id": "c6b0941cca9a099d",
   "outputs": [
    {
     "data": {
      "text/plain": [
       "tensor([[4.2470],\n",
       "        [0.0000]])"
      ]
     },
     "execution_count": 31,
     "metadata": {},
     "output_type": "execute_result"
    }
   ],
   "execution_count": 31
  },
  {
   "metadata": {},
   "cell_type": "markdown",
   "source": "四、读写文件",
   "id": "761b9c55a84de473"
  },
  {
   "metadata": {},
   "cell_type": "markdown",
   "source": "加载和保存张量",
   "id": "e5167e429792a3b1"
  },
  {
   "metadata": {
    "ExecuteTime": {
     "end_time": "2024-07-02T09:12:01.260957Z",
     "start_time": "2024-07-02T09:12:01.236603Z"
    }
   },
   "cell_type": "code",
   "source": [
    "import torch\n",
    "from torch import nn\n",
    "from torch.nn import functional as F\n",
    "\n",
    "x = torch.arange(4)\n",
    "torch.save(x, 'x-file')"
   ],
   "id": "8cbe5c29f859f11b",
   "outputs": [],
   "execution_count": 33
  },
  {
   "metadata": {
    "ExecuteTime": {
     "end_time": "2024-07-02T09:12:27.314238Z",
     "start_time": "2024-07-02T09:12:27.293327Z"
    }
   },
   "cell_type": "code",
   "source": [
    "x2 = torch.load('x-file')\n",
    "x2"
   ],
   "id": "90ba55b4668893d8",
   "outputs": [
    {
     "data": {
      "text/plain": [
       "tensor([0, 1, 2, 3])"
      ]
     },
     "execution_count": 34,
     "metadata": {},
     "output_type": "execute_result"
    }
   ],
   "execution_count": 34
  },
  {
   "metadata": {},
   "cell_type": "markdown",
   "source": "存储一个张量列表，然后把他们读回内存",
   "id": "ccfb9473ede6d80e"
  },
  {
   "metadata": {
    "ExecuteTime": {
     "end_time": "2024-07-02T09:12:44.546714Z",
     "start_time": "2024-07-02T09:12:44.526700Z"
    }
   },
   "cell_type": "code",
   "source": [
    "y = torch.zeros(4)\n",
    "torch.save([x, y],'x-files')\n",
    "x2, y2 = torch.load('x-files')\n",
    "(x2, y2)"
   ],
   "id": "4bd3bfda6898826a",
   "outputs": [
    {
     "data": {
      "text/plain": [
       "(tensor([0, 1, 2, 3]), tensor([0., 0., 0., 0.]))"
      ]
     },
     "execution_count": 35,
     "metadata": {},
     "output_type": "execute_result"
    }
   ],
   "execution_count": 35
  },
  {
   "metadata": {},
   "cell_type": "markdown",
   "source": "",
   "id": "f3e8cc2e6ed3703c"
  },
  {
   "metadata": {},
   "cell_type": "markdown",
   "source": "写入或读取从字符串映射到张量的字典",
   "id": "b5159a5fb7fda0d1"
  },
  {
   "metadata": {
    "ExecuteTime": {
     "end_time": "2024-07-02T09:12:54.710089Z",
     "start_time": "2024-07-02T09:12:54.686086Z"
    }
   },
   "cell_type": "code",
   "source": [
    "mydict = {'x': x, 'y': y}\n",
    "torch.save(mydict, 'mydict')\n",
    "mydict2 = torch.load('mydict')\n",
    "mydict2"
   ],
   "id": "4fe9656f954418c7",
   "outputs": [
    {
     "data": {
      "text/plain": [
       "{'x': tensor([0, 1, 2, 3]), 'y': tensor([0., 0., 0., 0.])}"
      ]
     },
     "execution_count": 36,
     "metadata": {},
     "output_type": "execute_result"
    }
   ],
   "execution_count": 36
  },
  {
   "metadata": {},
   "cell_type": "markdown",
   "source": "加载和保存模型参数",
   "id": "b2ede4b6cd1aae20"
  },
  {
   "metadata": {
    "ExecuteTime": {
     "end_time": "2024-07-02T09:13:35.544419Z",
     "start_time": "2024-07-02T09:13:35.537133Z"
    }
   },
   "cell_type": "code",
   "source": [
    "class MLP(nn.Module):\n",
    "    def __init__(self):\n",
    "        super().__init__()\n",
    "        self.hidden = nn.Linear(20, 256)\n",
    "        self.output = nn.Linear(256, 10)\n",
    "\n",
    "    def forward(self, x):\n",
    "        return self.output(F.relu(self.hidden(x)))\n",
    "\n",
    "net = MLP()\n",
    "X = torch.randn(size=(2, 20))\n",
    "Y = net(X)\n"
   ],
   "id": "570a8c30a9f4215f",
   "outputs": [],
   "execution_count": 37
  },
  {
   "metadata": {},
   "cell_type": "markdown",
   "source": "将模型的参数存储为一个叫做'mlp.params‘的文件",
   "id": "b3ae9aec6ac90342"
  },
  {
   "metadata": {
    "ExecuteTime": {
     "end_time": "2024-07-02T09:13:43.177676Z",
     "start_time": "2024-07-02T09:13:43.172664Z"
    }
   },
   "cell_type": "code",
   "source": "torch.save(net.state_dict(), 'mlp.params')",
   "id": "85e92be6adfa2cbd",
   "outputs": [],
   "execution_count": 38
  },
  {
   "metadata": {
    "ExecuteTime": {
     "end_time": "2024-07-02T09:13:51.896559Z",
     "start_time": "2024-07-02T09:13:51.884491Z"
    }
   },
   "cell_type": "code",
   "source": [
    "clone = MLP()\n",
    "clone.load_state_dict(torch.load('mlp.params'))\n",
    "clone.eval()"
   ],
   "id": "adda700e917a9733",
   "outputs": [
    {
     "data": {
      "text/plain": [
       "MLP(\n",
       "  (hidden): Linear(in_features=20, out_features=256, bias=True)\n",
       "  (output): Linear(in_features=256, out_features=10, bias=True)\n",
       ")"
      ]
     },
     "execution_count": 39,
     "metadata": {},
     "output_type": "execute_result"
    }
   ],
   "execution_count": 39
  },
  {
   "metadata": {
    "ExecuteTime": {
     "end_time": "2024-07-02T09:14:02.904751Z",
     "start_time": "2024-07-02T09:14:02.894937Z"
    }
   },
   "cell_type": "code",
   "source": [
    "Y_clone = clone(X)\n",
    "Y_clone == Y"
   ],
   "id": "cc69db510e771fdd",
   "outputs": [
    {
     "data": {
      "text/plain": [
       "tensor([[True, True, True, True, True, True, True, True, True, True],\n",
       "        [True, True, True, True, True, True, True, True, True, True]])"
      ]
     },
     "execution_count": 40,
     "metadata": {},
     "output_type": "execute_result"
    }
   ],
   "execution_count": 40
  }
 ],
 "metadata": {
  "kernelspec": {
   "display_name": "Python 3",
   "language": "python",
   "name": "python3"
  },
  "language_info": {
   "codemirror_mode": {
    "name": "ipython",
    "version": 2
   },
   "file_extension": ".py",
   "mimetype": "text/x-python",
   "name": "python",
   "nbconvert_exporter": "python",
   "pygments_lexer": "ipython2",
   "version": "2.7.6"
  }
 },
 "nbformat": 4,
 "nbformat_minor": 5
}
