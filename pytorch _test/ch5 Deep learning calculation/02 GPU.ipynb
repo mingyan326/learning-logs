{
 "cells": [
  {
   "cell_type": "code",
   "id": "initial_id",
   "metadata": {
    "collapsed": true,
    "ExecuteTime": {
     "end_time": "2024-07-02T09:32:13.853095Z",
     "start_time": "2024-07-02T09:32:12.835628Z"
    }
   },
   "source": "!nvidia-smi",
   "outputs": [
    {
     "name": "stdout",
     "output_type": "stream",
     "text": [
      "Tue Jul  2 17:32:13 2024       \n",
      "+-----------------------------------------------------------------------------------------+\n",
      "| NVIDIA-SMI 551.78                 Driver Version: 551.78         CUDA Version: 12.4     |\n",
      "|-----------------------------------------+------------------------+----------------------+\n",
      "| GPU  Name                     TCC/WDDM  | Bus-Id          Disp.A | Volatile Uncorr. ECC |\n",
      "| Fan  Temp   Perf          Pwr:Usage/Cap |           Memory-Usage | GPU-Util  Compute M. |\n",
      "|                                         |                        |               MIG M. |\n",
      "|=========================================+========================+======================|\n",
      "|   0  NVIDIA GeForce MX350         WDDM  |   00000000:02:00.0 Off |                  N/A |\n",
      "| N/A   41C    P0             N/A / ERR!  |       0MiB /   2048MiB |      2%      Default |\n",
      "|                                         |                        |                  N/A |\n",
      "+-----------------------------------------+------------------------+----------------------+\n",
      "                                                                                         \n",
      "+-----------------------------------------------------------------------------------------+\n",
      "| Processes:                                                                              |\n",
      "|  GPU   GI   CI        PID   Type   Process name                              GPU Memory |\n",
      "|        ID   ID                                                               Usage      |\n",
      "|=========================================================================================|\n",
      "|  No running processes found                                                             |\n",
      "+-----------------------------------------------------------------------------------------+\n"
     ]
    }
   ],
   "execution_count": 1
  },
  {
   "metadata": {
    "ExecuteTime": {
     "end_time": "2024-07-02T09:33:16.809785Z",
     "start_time": "2024-07-02T09:33:11.564757Z"
    }
   },
   "cell_type": "code",
   "source": [
    "import torch\n",
    "from torch import nn\n",
    "torch.device('cpu'), torch.device('cuda'), torch.device('cuda:1')"
   ],
   "id": "361292a34c76c120",
   "outputs": [
    {
     "data": {
      "text/plain": [
       "(device(type='cpu'), device(type='cuda'), device(type='cuda', index=1))"
      ]
     },
     "execution_count": 2,
     "metadata": {},
     "output_type": "execute_result"
    }
   ],
   "execution_count": 2
  },
  {
   "metadata": {
    "ExecuteTime": {
     "end_time": "2024-07-02T09:34:11.470698Z",
     "start_time": "2024-07-02T09:34:10.573732Z"
    }
   },
   "cell_type": "code",
   "source": "torch.cuda.device_count()",
   "id": "c90fbf0e1c30acaa",
   "outputs": [
    {
     "data": {
      "text/plain": [
       "1"
      ]
     },
     "execution_count": 3,
     "metadata": {},
     "output_type": "execute_result"
    }
   ],
   "execution_count": 3
  },
  {
   "metadata": {},
   "cell_type": "markdown",
   "source": "定义了两个方便的函数，这两个函数允许我们在不存在所需所有GPU的情况下运行代码。",
   "id": "e827a208baf857d6"
  },
  {
   "metadata": {
    "ExecuteTime": {
     "end_time": "2024-07-02T09:38:52.134604Z",
     "start_time": "2024-07-02T09:38:52.122283Z"
    }
   },
   "cell_type": "code",
   "source": [
    "def try_gpu(i=0): \n",
    "    \"\"\"如果存在，则返回gpu(i)，否则返回cpu()\"\"\"\n",
    "    if torch.cuda.device_count() >= i + 1:\n",
    "        return torch.device(f'cuda:{i}')\n",
    "    return torch.device('cpu')\n",
    "\n",
    "def try_all_gpus(): \n",
    "    \"\"\"返回所有可用的GPU，如果没有GPU，则返回[cpu(),]\"\"\"\n",
    "    devices = [torch.device(f'cuda:{i}')for i in range(torch.cuda.device_count())]\n",
    "    return devices if devices else [torch.device('cpu')]\n",
    "\n",
    "try_gpu(), try_gpu(10), try_all_gpus()\n"
   ],
   "id": "6d2f7925d011c5dd",
   "outputs": [
    {
     "data": {
      "text/plain": [
       "(device(type='cuda', index=0),\n",
       " device(type='cpu'),\n",
       " [device(type='cuda', index=0)])"
      ]
     },
     "execution_count": 4,
     "metadata": {},
     "output_type": "execute_result"
    }
   ],
   "execution_count": 4
  },
  {
   "metadata": {},
   "cell_type": "markdown",
   "source": "查询张量所在的设备",
   "id": "860875c4e8dc8104"
  },
  {
   "metadata": {
    "ExecuteTime": {
     "end_time": "2024-07-02T09:40:20.994648Z",
     "start_time": "2024-07-02T09:40:20.973559Z"
    }
   },
   "cell_type": "code",
   "source": [
    "x = torch.tensor([1, 2, 3])\n",
    "x.device"
   ],
   "id": "65d175be4d1734fc",
   "outputs": [
    {
     "data": {
      "text/plain": [
       "device(type='cpu')"
      ]
     },
     "execution_count": 5,
     "metadata": {},
     "output_type": "execute_result"
    }
   ],
   "execution_count": 5
  },
  {
   "metadata": {},
   "cell_type": "markdown",
   "source": "存储在gpu上",
   "id": "d2e21a08776a899d"
  },
  {
   "metadata": {
    "ExecuteTime": {
     "end_time": "2024-07-02T09:42:19.203069Z",
     "start_time": "2024-07-02T09:42:17.976022Z"
    }
   },
   "cell_type": "code",
   "source": [
    "X = torch.ones(2, 3, device=try_gpu())\n",
    "X"
   ],
   "id": "bd6aa127adbb1b6d",
   "outputs": [
    {
     "data": {
      "text/plain": [
       "tensor([[1., 1., 1.],\n",
       "        [1., 1., 1.]], device='cuda:0')"
      ]
     },
     "execution_count": 6,
     "metadata": {},
     "output_type": "execute_result"
    }
   ],
   "execution_count": 6
  },
  {
   "metadata": {},
   "cell_type": "markdown",
   "source": "在第二个GPU上创建一个随机张量。",
   "id": "205ac12137b78c27"
  },
  {
   "metadata": {
    "ExecuteTime": {
     "end_time": "2024-07-02T09:47:01.800719Z",
     "start_time": "2024-07-02T09:47:01.792740Z"
    }
   },
   "cell_type": "code",
   "source": [
    "Y = torch.rand(2, 3, device=try_gpu(1))\n",
    "Y\n",
    "#只有一个GPU 会返回到CPU上面 后面的代码略过"
   ],
   "id": "f03d7837e7c97e76",
   "outputs": [
    {
     "data": {
      "text/plain": [
       "tensor([[0.2190, 0.0310, 0.5369],\n",
       "        [0.5427, 0.4866, 0.5616]])"
      ]
     },
     "execution_count": 8,
     "metadata": {},
     "output_type": "execute_result"
    }
   ],
   "execution_count": 8
  },
  {
   "metadata": {},
   "cell_type": "markdown",
   "source": "神经网络和GPU",
   "id": "a5b31f17dfe51fbd"
  },
  {
   "metadata": {
    "ExecuteTime": {
     "end_time": "2024-07-02T09:48:58.498617Z",
     "start_time": "2024-07-02T09:48:57.450482Z"
    }
   },
   "cell_type": "code",
   "source": [
    "net = nn.Sequential(nn.Linear(3, 1))\n",
    "net = net.to(device=try_gpu())\n",
    "\n",
    "net(X)"
   ],
   "id": "18bb42507c630574",
   "outputs": [
    {
     "data": {
      "text/plain": [
       "tensor([[-0.4904],\n",
       "        [-0.4904]], device='cuda:0', grad_fn=<AddmmBackward0>)"
      ]
     },
     "execution_count": 10,
     "metadata": {},
     "output_type": "execute_result"
    }
   ],
   "execution_count": 10
  },
  {
   "metadata": {
    "ExecuteTime": {
     "end_time": "2024-07-02T09:49:04.942946Z",
     "start_time": "2024-07-02T09:49:04.925058Z"
    }
   },
   "cell_type": "code",
   "source": [
    "#让我们确认模型参数存储在同一个GPU上。\n",
    "net[0].weight.data.device"
   ],
   "id": "c03d720f169ba6cf",
   "outputs": [
    {
     "data": {
      "text/plain": [
       "device(type='cuda', index=0)"
      ]
     },
     "execution_count": 11,
     "metadata": {},
     "output_type": "execute_result"
    }
   ],
   "execution_count": 11
  }
 ],
 "metadata": {
  "kernelspec": {
   "display_name": "Python 3",
   "language": "python",
   "name": "python3"
  },
  "language_info": {
   "codemirror_mode": {
    "name": "ipython",
    "version": 2
   },
   "file_extension": ".py",
   "mimetype": "text/x-python",
   "name": "python",
   "nbconvert_exporter": "python",
   "pygments_lexer": "ipython2",
   "version": "2.7.6"
  }
 },
 "nbformat": 4,
 "nbformat_minor": 5
}
