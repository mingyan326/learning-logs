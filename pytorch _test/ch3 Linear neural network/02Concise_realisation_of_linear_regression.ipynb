{
 "cells": [
  {
   "cell_type": "code",
   "id": "initial_id",
   "metadata": {
    "collapsed": true,
    "ExecuteTime": {
     "end_time": "2024-04-28T14:00:44.897901Z",
     "start_time": "2024-04-28T14:00:44.863142Z"
    }
   },
   "source": [
    "import numpy as np\n",
    "import torch\n",
    "from torch.utils import data\n",
    "from d2l import torch as d2l\n",
    "\n",
    "true_w = torch.tensor([2, -3.4])\n",
    "true_b = 4.2\n",
    "features, labels = d2l.synthetic_data(true_w, true_b, 1000)"
   ],
   "outputs": [],
   "execution_count": 9
  },
  {
   "metadata": {
    "ExecuteTime": {
     "end_time": "2024-04-28T14:00:44.928848Z",
     "start_time": "2024-04-28T14:00:44.899895Z"
    }
   },
   "cell_type": "code",
   "source": [
    "def load_array(data_arrays, batch_size, is_train=True): #@save\n",
    "    \"\"\"构造一个PyTorch数据迭代器\"\"\"\n",
    "    dataset = data.TensorDataset(*data_arrays)\n",
    "    return data.DataLoader(dataset, batch_size, shuffle=is_train)\n",
    "\n",
    "batch_size = 10\n",
    "data_iter = load_array((features, labels), batch_size)\n",
    "\n",
    "next(iter(data_iter))"
   ],
   "id": "7f0032802a501848",
   "outputs": [
    {
     "data": {
      "text/plain": [
       "[tensor([[-0.8420,  0.9615],\n",
       "         [-0.5919,  0.1709],\n",
       "         [-1.1155, -0.0075],\n",
       "         [-0.4610, -1.1939],\n",
       "         [ 0.5006,  1.4196],\n",
       "         [-0.8056,  1.1252],\n",
       "         [ 0.2499, -1.5658],\n",
       "         [-0.6493,  0.3622],\n",
       "         [-0.4498, -1.2804],\n",
       "         [ 0.5195,  1.5201]]),\n",
       " tensor([[-0.7575],\n",
       "         [ 2.4146],\n",
       "         [ 1.9919],\n",
       "         [ 7.3229],\n",
       "         [ 0.3881],\n",
       "         [-1.2322],\n",
       "         [10.0247],\n",
       "         [ 1.6521],\n",
       "         [ 7.6526],\n",
       "         [ 0.0656]])]"
      ]
     },
     "execution_count": 10,
     "metadata": {},
     "output_type": "execute_result"
    }
   ],
   "execution_count": 10
  },
  {
   "metadata": {
    "ExecuteTime": {
     "end_time": "2024-04-28T14:00:44.944181Z",
     "start_time": "2024-04-28T14:00:44.930815Z"
    }
   },
   "cell_type": "code",
   "source": [
    "# nn是神经网络的缩写\n",
    "from torch import nn\n",
    "\n",
    "net = nn.Sequential(nn.Linear(2, 1))"
   ],
   "id": "bef67bf0a3271968",
   "outputs": [],
   "execution_count": 11
  },
  {
   "metadata": {},
   "cell_type": "markdown",
   "source": "使用框架的预定义好的层",
   "id": "5c8dd84911b90931"
  },
  {
   "metadata": {},
   "cell_type": "markdown",
   "source": "初始化模型参数",
   "id": "da3d4a05c37c719c"
  },
  {
   "metadata": {
    "ExecuteTime": {
     "end_time": "2024-04-28T14:00:44.959142Z",
     "start_time": "2024-04-28T14:00:44.947176Z"
    }
   },
   "cell_type": "code",
   "source": [
    "net[0].weight.data.normal_(0, 0.01)\n",
    "net[0].bias.data.fill_(0)"
   ],
   "id": "d9d4c605c59af5a3",
   "outputs": [
    {
     "data": {
      "text/plain": [
       "tensor([0.])"
      ]
     },
     "execution_count": 12,
     "metadata": {},
     "output_type": "execute_result"
    }
   ],
   "execution_count": 12
  },
  {
   "metadata": {},
   "cell_type": "markdown",
   "source": "定义损失函数",
   "id": "a5e302448075ccfe"
  },
  {
   "metadata": {
    "ExecuteTime": {
     "end_time": "2024-04-28T14:00:44.975173Z",
     "start_time": "2024-04-28T14:00:44.960140Z"
    }
   },
   "cell_type": "code",
   "source": "loss = nn.MSELoss()",
   "id": "d874807723c2ef65",
   "outputs": [],
   "execution_count": 13
  },
  {
   "metadata": {},
   "cell_type": "markdown",
   "source": "实例化SGD实例",
   "id": "ce5d4c305214ebe1"
  },
  {
   "metadata": {
    "ExecuteTime": {
     "end_time": "2024-04-28T14:00:44.990059Z",
     "start_time": "2024-04-28T14:00:44.976096Z"
    }
   },
   "cell_type": "code",
   "source": "trainer = torch.optim.SGD(net.parameters(), lr=0.03)",
   "id": "7e6e5809074fdb14",
   "outputs": [],
   "execution_count": 14
  },
  {
   "metadata": {},
   "cell_type": "markdown",
   "source": "训练",
   "id": "7d420db2b3e5b9c3"
  },
  {
   "metadata": {
    "ExecuteTime": {
     "end_time": "2024-04-28T14:00:45.189732Z",
     "start_time": "2024-04-28T14:00:44.991229Z"
    }
   },
   "cell_type": "code",
   "source": [
    "num_epochs = 3\n",
    "for epoch in range(num_epochs):\n",
    "    for X, y in data_iter:\n",
    "        l = loss(net(X) ,y)\n",
    "        trainer.zero_grad()\n",
    "        l.backward()\n",
    "        trainer.step()\n",
    "    l = loss(net(features), labels)\n",
    "    print(f'epoch {epoch + 1}, loss {l:f}')"
   ],
   "id": "7174759b7e84893",
   "outputs": [
    {
     "name": "stdout",
     "output_type": "stream",
     "text": [
      "epoch 1, loss 0.000302\n",
      "epoch 2, loss 0.000100\n",
      "epoch 3, loss 0.000100\n"
     ]
    }
   ],
   "execution_count": 15
  },
  {
   "metadata": {
    "ExecuteTime": {
     "end_time": "2024-04-28T14:00:45.204723Z",
     "start_time": "2024-04-28T14:00:45.190928Z"
    }
   },
   "cell_type": "code",
   "source": [
    "w = net[0].weight.data\n",
    "print('w的估计误差：', true_w - w.reshape(true_w.shape))\n",
    "b = net[0].bias.data\n",
    "print('b的估计误差：', true_b - b)"
   ],
   "id": "ecb042fa38a62afc",
   "outputs": [
    {
     "name": "stdout",
     "output_type": "stream",
     "text": [
      "w的估计误差： tensor([-8.9478e-04, -8.8215e-06])\n",
      "b的估计误差： tensor([-0.0003])\n"
     ]
    }
   ],
   "execution_count": 16
  }
 ],
 "metadata": {
  "kernelspec": {
   "display_name": "Python 3",
   "language": "python",
   "name": "python3"
  },
  "language_info": {
   "codemirror_mode": {
    "name": "ipython",
    "version": 2
   },
   "file_extension": ".py",
   "mimetype": "text/x-python",
   "name": "python",
   "nbconvert_exporter": "python",
   "pygments_lexer": "ipython2",
   "version": "2.7.6"
  }
 },
 "nbformat": 4,
 "nbformat_minor": 5
}
